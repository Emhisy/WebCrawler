{
 "cells": [
  {
   "cell_type": "code",
   "execution_count": 71,
   "id": "b6723716",
   "metadata": {},
   "outputs": [
    {
     "name": "stderr",
     "output_type": "stream",
     "text": [
      "/var/folders/dw/tbc1pbpn00s51dcj9nf620n40000gn/T/ipykernel_38759/860795275.py:7: DeprecationWarning: executable_path has been deprecated, please pass in a Service object\n",
      "  driver = webdriver.Chrome(DRIVER_PATH)\n"
     ]
    }
   ],
   "source": [
    "from selenium import webdriver\n",
    "from selenium.webdriver.common.by import By\n",
    "from time import sleep\n",
    "import csv\n",
    "\n",
    "DRIVER_PATH = \"./chromedriver\"\n",
    "driver = webdriver.Chrome(DRIVER_PATH)\n"
   ]
  },
  {
   "cell_type": "code",
   "execution_count": 72,
   "id": "ad428d33",
   "metadata": {},
   "outputs": [],
   "source": [
    "def get_link(driver, link):\n",
    "    driver.get(link)\n",
    "    sleep(2)\n",
    "    try:\n",
    "        driver.find_element(By.XPATH, '//*[@id=\"didomi-popup\"]/div/div/div/span').click()\n",
    "    except:\n",
    "        pass\n",
    "    return driver\n"
   ]
  },
  {
   "cell_type": "code",
   "execution_count": 73,
   "id": "97d8382d",
   "metadata": {},
   "outputs": [],
   "source": [
    "def get_manga_information(driver):\n",
    "    # senariste, dessinateur\n",
    "    balise_xpath = {\n",
    "        'title': '//*[@id=\"content\"]/div[1]/div[2]/h1/span',\n",
    "        'informations': '//*[@id=\"onglets_1_information\"]/div[1]/div[2]/ul/li',\n",
    "        'description': '//*[@id=\"onglets_1_information\"]/div[2]/div/div[1]',\n",
    "        'Links': '//*[@id=\"edition_0-1\"]/div/a'\n",
    "        }\n",
    "    informations = {'Links': []}\n",
    "    for key, xpath in balise_xpath.items():\n",
    "        if key == 'Links':\n",
    "            elems = driver.find_elements(By.XPATH, xpath)\n",
    "            for elem in elems:\n",
    "                informations['Links'].append(elem.get_attribute(\"href\"))\n",
    "            continue\n",
    "        if key == 'informations':\n",
    "            elems = driver.find_elements(By.XPATH, xpath)\n",
    "            for elem in elems:\n",
    "                splited = elem.text.split(' : ')\n",
    "                if len(splited) == 1:\n",
    "                    continue\n",
    "                if splited[0] == 'Auteur':\n",
    "                    informations['Scénariste'] = splited[1]\n",
    "                    informations['Dessinateur'] = splited[1]\n",
    "                    continue\n",
    "                informations[splited[0]] = splited[1]\n",
    "        try:\n",
    "            informations[key] = driver.find_element(By.XPATH, xpath).text.replace('\\n', ' ').replace('\\r', '')\n",
    "        except:\n",
    "            print(xpath)\n",
    "    return informations"
   ]
  },
  {
   "cell_type": "code",
   "execution_count": 74,
   "id": "95ff6e96",
   "metadata": {},
   "outputs": [],
   "source": [
    "def push_to_csv(manga):\n",
    "    row_push = [\n",
    "        manga['title'] if 'title' in manga else '',\n",
    "        manga['description'] if 'description' in manga else '',\n",
    "        manga['Origine'] if 'Origine' in manga else '',\n",
    "        manga['Type'] if 'Type' in manga else '',\n",
    "        manga['Genres'] if 'Genres' in manga else '',\n",
    "        manga['Thèmes'] if 'Thèmes' in manga else '',\n",
    "        manga['Scénariste'] if 'Scénariste' in manga else '',\n",
    "        manga['Dessinateur'] if 'Dessinateur' in manga else ''\n",
    "    ]\n",
    "\n",
    "    with open('./manga_information_result.csv', 'a+', newline='') as csv_result_file:\n",
    "        csv_writer = csv.writer(csv_result_file, delimiter=';')\n",
    "        csv_writer.writerow(row_push)\n"
   ]
  },
  {
   "cell_type": "code",
   "execution_count": 79,
   "id": "f85f1be3",
   "metadata": {},
   "outputs": [],
   "source": [
    "def main(driver):\n",
    "    prepare_file()\n",
    "    links = []\n",
    "    for i in range(4):\n",
    "        base_link = f'https://www.nautiljon.com/mangas/?dbt={i*50}'\n",
    "        driver = get_link(driver, base_link)\n",
    "        mangas = driver.find_elements(By.XPATH, '//*[@id=\"content\"]/div[1]/div[5]/table/tbody/tr')\n",
    "        for manga in mangas:\n",
    "            links.append(manga.find_element(By.XPATH, 'td[2]/a').get_attribute('href'))\n",
    "        sleep(2)\n",
    "        \n",
    "    for link in links:\n",
    "        driver.get(link)\n",
    "        manga = get_manga_information(driver)\n",
    "        do_tomes(driver, manga['Links'])\n",
    "        push_to_csv(manga)\n",
    "        sleep(1)\n",
    "    "
   ]
  },
  {
   "cell_type": "code",
   "execution_count": 76,
   "id": "864421e5",
   "metadata": {},
   "outputs": [],
   "source": [
    "def do_tomes(driver, links):\n",
    "    for link in links:\n",
    "        driver = get_link(driver, link)\n",
    "        try:\n",
    "            tome_title=driver.find_element(By.CLASS_NAME, \"h1titre\").text.split('\\n')[1]\n",
    "        except:\n",
    "            tome_title=''\n",
    "        try:\n",
    "            tome_mark=driver.find_element(By.CLASS_NAME, \"moy_note\").text\n",
    "        except:\n",
    "            tome_mark=''\n",
    "            \n",
    "        try:\n",
    "            infos_list=driver.find_element(By.CLASS_NAME, \"mb10\").find_elements(By.TAG_NAME, \"li\")\n",
    "        except:\n",
    "            return\n",
    "        \n",
    "        try:\n",
    "            tome_publisher=infos_list[0].text.split(':')[1]\n",
    "        except:\n",
    "            tome_publisher=''\n",
    "            \n",
    "        try:\n",
    "            tome_published_date=infos_list[1].text.split(':')[1]\n",
    "        except:\n",
    "            tome_published_date=''\n",
    "            \n",
    "        try:\n",
    "            tome_number_pages=infos_list[3].text.split(':')[1]\n",
    "        except:\n",
    "            tome_number_pages=''\n",
    "            \n",
    "        try:\n",
    "            tome_description=driver.find_element(By.CLASS_NAME, \"description\").text.replace('\\n', ' ').replace('\\r', '')\n",
    "        except:\n",
    "            tome_description=''\n",
    "        \n",
    "        row_push = [tome_title,tome_mark, tome_description, tome_publisher, tome_published_date, tome_number_pages]\n",
    "        with open('./tome_information_result.csv', 'a+', newline='') as csv_result_file:\n",
    "            csv_writer = csv.writer(csv_result_file, delimiter=';')\n",
    "            csv_writer.writerow(row_push)\n",
    "\n",
    "            "
   ]
  },
  {
   "cell_type": "code",
   "execution_count": 77,
   "id": "f9809c8c",
   "metadata": {},
   "outputs": [],
   "source": [
    "def prepare_file():\n",
    "    \n",
    "    try:\n",
    "        with open('./manga_information_result.csv', 'r') as file:\n",
    "            csvreader = csv.reader(file)\n",
    "            row_count = sum(1 for row in csvreader)\n",
    "    except FileNotFoundError:\n",
    "        row_push = ['Title','Description','Origine','Type','Genres','Thèmes','Scénariste','Dessinateur']\n",
    "        with open('./manga_information_result.csv', 'w', newline='') as csv_result_file:\n",
    "            csv_writer = csv.writer(csv_result_file, delimiter=';')\n",
    "            csv_writer.writerow(row_push)\n",
    "    \n",
    "    try:\n",
    "        with open('./tome_information_result.csv', 'r') as file:\n",
    "            csvreader = csv.reader(file)\n",
    "            row_count = sum(1 for row in csvreader)\n",
    "    except FileNotFoundError:\n",
    "        row_push = ['Title','Note','Description','Éditeur','Date de publication','Nombre de pages']\n",
    "        with open('./tome_information_result.csv', 'w', newline='') as csv_result_file:\n",
    "            csv_writer = csv.writer(csv_result_file, delimiter=';')\n",
    "            csv_writer.writerow(row_push)"
   ]
  },
  {
   "cell_type": "code",
   "execution_count": 78,
   "id": "4c4d69b5",
   "metadata": {},
   "outputs": [],
   "source": [
    "main(driver)"
   ]
  },
  {
   "cell_type": "code",
   "execution_count": null,
   "id": "af68441d",
   "metadata": {},
   "outputs": [],
   "source": []
  }
 ],
 "metadata": {
  "kernelspec": {
   "display_name": "Python 3 (ipykernel)",
   "language": "python",
   "name": "python3"
  },
  "language_info": {
   "codemirror_mode": {
    "name": "ipython",
    "version": 3
   },
   "file_extension": ".py",
   "mimetype": "text/x-python",
   "name": "python",
   "nbconvert_exporter": "python",
   "pygments_lexer": "ipython3",
   "version": "3.10.4"
  }
 },
 "nbformat": 4,
 "nbformat_minor": 5
}
