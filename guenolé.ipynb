{
 "cells": [
  {
   "cell_type": "code",
   "execution_count": 32,
   "id": "babc3856",
   "metadata": {},
   "outputs": [],
   "source": [
    "from selenium import webdriver\n",
    "from selenium.webdriver.chrome.service import Service\n",
    "from selenium.webdriver.common.by import By\n",
    "import pandas as pd\n",
    "options=webdriver.ChromeOptions()\n",
    "options.add_argument('-headless')\n",
    "options.add_argument('-no-sandbox')\n",
    "options.add_argument('-disable-dev-shm-usage')\n"
   ]
  },
  {
   "cell_type": "code",
   "execution_count": 102,
   "id": "bddf7fc4",
   "metadata": {},
   "outputs": [
    {
     "name": "stdout",
     "output_type": "stream",
     "text": [
      "Shibuya Near Family Vol. 1 Shibuya Near Family Vol. 1 -/10 Cette petite série présente un portrait sans fard de la situation de Touka Itsuko, une petite fille en troisième année de primaire, que tout le monde appelle Ikko-chan, et de sa famille qui vit à Shibuya.  Shogakukan  15/09/2022  176  Kumeta Koji  Shounen Sunday Comics  Shonen  Comédie - Slice of Life  Quotidien\n"
     ]
    }
   ],
   "source": [
    "service = Service(executable_path=\"./chromedriver\")\n",
    "driver=webdriver.Chrome(service=service)\n",
    "driver.get('https://www.nautiljon.com/mangas/shibuya+near+family/volume-1,976680.html')\n",
    "\n",
    "\n",
    "\n",
    "\n",
    "\n",
    "tome_title=driver.find_element(By.CLASS_NAME, \"h1titre\").text.split('\\n')[1]\n",
    "tome_mark=driver.find_element(By.CLASS_NAME, \"moy_note\").text\n",
    "\n",
    "#Tome infos\n",
    "infos_list=driver.find_element(By.CLASS_NAME, \"mb10\").find_elements(By.TAG_NAME, \"li\")\n",
    "tome_publisher=infos_list[0].text.split(':')[1]\n",
    "tome_published_date=infos_list[1].text.split(':')[1]\n",
    "tome_number_pages=infos_list[3].text.split(':')[1]\n",
    "tome_description=driver.find_element(By.CLASS_NAME, \"description\").text\n",
    "\n",
    "#General mange infos\n",
    "infos_manga_list=driver.find_element(By.ID, \"infos_fiche_manga\").find_elements(By.TAG_NAME, \"li\")\n",
    "manga_author=infos_manga_list[1].text.split(':')[1]\n",
    "manga_label=infos_manga_list[2].text.split(':')[1]\n",
    "manga_type=infos_manga_list[3].text.split(':')[1]\n",
    "manga_genre=infos_manga_list[4].text.split(':')[1]\n",
    "manga_theme=infos_manga_list[5].text.split(':')[1]\n",
    "\n",
    "\n",
    "\n",
    "print(tome_title,tome_title,tome_mark, tome_description, tome_publisher, tome_published_date, tome_number_pages, manga_author, manga_label, manga_type, manga_genre,manga_theme)"
   ]
  }
 ],
 "metadata": {
  "kernelspec": {
   "display_name": "Python 3 (ipykernel)",
   "language": "python",
   "name": "python3"
  },
  "language_info": {
   "codemirror_mode": {
    "name": "ipython",
    "version": 3
   },
   "file_extension": ".py",
   "mimetype": "text/x-python",
   "name": "python",
   "nbconvert_exporter": "python",
   "pygments_lexer": "ipython3",
   "version": "3.10.4"
  },
  "vscode": {
   "interpreter": {
    "hash": "369f2c481f4da34e4445cda3fffd2e751bd1c4d706f27375911949ba6bb62e1c"
   }
  }
 },
 "nbformat": 4,
 "nbformat_minor": 5
}
